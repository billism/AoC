{
 "cells": [
  {
   "cell_type": "code",
   "execution_count": 1,
   "metadata": {},
   "outputs": [],
   "source": [
    "import numpy as np\n",
    "import matplotlib.pyplot as plt"
   ]
  },
  {
   "cell_type": "markdown",
   "metadata": {},
   "source": [
    "## Part I"
   ]
  },
  {
   "cell_type": "code",
   "execution_count": 2,
   "metadata": {},
   "outputs": [
    {
     "name": "stdout",
     "output_type": "stream",
     "text": [
      "[[7, 3, 85], [9, 3, 85]]\n",
      "[[2, 8, 123], [4, 8, 123]]\n",
      "[[8, 2, 69], [8, 2, 72]]\n",
      "[[3, 1, 280], [3, 4, 280]]\n",
      "[[4, 1, 6], [4, 2, 6]]\n",
      "[[7, 1, 156], [7, 3, 156]]\n",
      "[[1, 5, 105], [4, 5, 105]]\n",
      "[[5, 8, 69], [5, 8, 69]]\n",
      "[[5, 0, 255], [5, 3, 255]]\n",
      "[[2, 8, 120], [3, 8, 120]]\n"
     ]
    }
   ],
   "source": [
    "# 读取数据\n",
    "fn = 'test1.txt'\n",
    "fn = 'input.txt'\n",
    "\n",
    "data = []\n",
    "with open(fn) as f:\n",
    "    for line in f:\n",
    "        lhs, rhs = line.strip().split(\"~\")\n",
    "        lhs = list(map(int, lhs.strip().split(\",\")))\n",
    "        rhs = list(map(int, rhs.strip().split(\",\")))\n",
    "        data.append([lhs, rhs])\n",
    "# data = sorted(data, key=lambda x: min(x[0][2],x[1][2]))\n",
    "print(*data[:10], sep=\"\\n\")"
   ]
  },
  {
   "cell_type": "code",
   "execution_count": 3,
   "metadata": {},
   "outputs": [
    {
     "name": "stdout",
     "output_type": "stream",
     "text": [
      "(0, 9) (0, 9) (1, 299)\n"
     ]
    }
   ],
   "source": [
    "### 每个方向上的最大最小值\n",
    "minx, maxx = min([min(p1[0],p2[0]) for p1, p2 in data]), max([max(p1[0],p2[0]) for p1, p2 in data])\n",
    "miny, maxy = min([min(p1[1],p2[1]) for p1, p2 in data]), max([max(p1[1],p2[1]) for p1, p2 in data])\n",
    "minz, maxz = min([min(p1[2],p2[2]) for p1, p2 in data]), max([max(p1[2],p2[2]) for p1, p2 in data])\n",
    "print((minx,maxx), (miny,maxy), (minz, maxz))"
   ]
  },
  {
   "cell_type": "code",
   "execution_count": 4,
   "metadata": {},
   "outputs": [],
   "source": [
    "# 给定一块砖的两个端点坐标, 返回它包含的 cubes\n",
    "def get_cubes(bk):\n",
    "    x1,y1,z1 = bk[0]\n",
    "    x2,y2,z2 = bk[1]\n",
    "    t = None\n",
    "    cubes = []\n",
    "    if z1 != z2: # 垂直的\n",
    "        z1, z2 = min(z1,z2),max(z1,z2)\n",
    "        for zi in range(z1,z2+1):\n",
    "            cubes.append([(x1,y1,zi)])\n",
    "        t = \"z\"\n",
    "    elif x1 != x2: # x 方向的\n",
    "        x1, x2 = min(x1,x2),max(x1,x2)\n",
    "        for xi in range(x1,x2+1):\n",
    "            cubes.append((xi,y1,z1))\n",
    "        cubes = [cubes]\n",
    "        t = \"x\"\n",
    "    elif y1 != y2: # y 方向的\n",
    "        y1, y2 = min(y1,y2),max(y1,y2)\n",
    "        for yi in range(y1,y2+1):\n",
    "            cubes.append((x1,yi,z1))\n",
    "        t = \"y\"\n",
    "        cubes = [cubes]\n",
    "    else:  # single cube\n",
    "        cubes.append([(x1,y1,z1)])\n",
    "        t = \"z\"\n",
    "    return cubes, t"
   ]
  },
  {
   "cell_type": "code",
   "execution_count": 5,
   "metadata": {},
   "outputs": [
    {
     "name": "stdout",
     "output_type": "stream",
     "text": [
      "1203\n",
      "[[(7, 3, 85), (8, 3, 85), (9, 3, 85)]]\n",
      "[[(2, 8, 123), (3, 8, 123), (4, 8, 123)]]\n",
      "[[(8, 2, 69)], [(8, 2, 70)], [(8, 2, 71)], [(8, 2, 72)]]\n",
      "[[(3, 1, 280), (3, 2, 280), (3, 3, 280), (3, 4, 280)]]\n",
      "[[(4, 1, 6), (4, 2, 6)]]\n",
      "[[(7, 1, 156), (7, 2, 156), (7, 3, 156)]]\n",
      "[[(1, 5, 105), (2, 5, 105), (3, 5, 105), (4, 5, 105)]]\n",
      "[[(5, 8, 69)]]\n",
      "[[(5, 0, 255), (5, 1, 255), (5, 2, 255), (5, 3, 255)]]\n",
      "[[(2, 8, 120), (3, 8, 120)]]\n"
     ]
    }
   ],
   "source": [
    "# 把每块砖打散为 cubes\n",
    "data, kind = list(zip(*[get_cubes(bk) for bk in data]))\n",
    "data = list(data)\n",
    "kind = list(kind)\n",
    "print(len(data))\n",
    "print(*data[:10], sep=\"\\n\")"
   ]
  },
  {
   "cell_type": "code",
   "execution_count": 6,
   "metadata": {},
   "outputs": [
    {
     "data": {
      "text/plain": [
       "3580"
      ]
     },
     "execution_count": 6,
     "metadata": {},
     "output_type": "execute_result"
    }
   ],
   "source": [
    "# 以 xyz 坐标为 key, 构建一个数据库, 看这个 cube 被哪块砖占据了\n",
    "db = dict()\n",
    "for i, bk in enumerate(data):\n",
    "    for row in bk:\n",
    "        for cube in row:\n",
    "            db[cube] = i\n",
    "len(db)"
   ]
  },
  {
   "cell_type": "code",
   "execution_count": 7,
   "metadata": {},
   "outputs": [],
   "source": [
    "# 检查能够向下移动, 如果能就移动, 并更新 data 和 db\n",
    "def fall(idx):\n",
    "    global data\n",
    "    global db\n",
    "    \n",
    "    is_below_empty = True\n",
    "    while is_below_empty:  # 假设可以向下移动\n",
    "        bk = data[idx]\n",
    "        btrow = bk[0]   # 砖块的最底下的一层\n",
    "        # 首先检查是不是真的可以向下移动\n",
    "        for cube in btrow:\n",
    "            x, y, z = cube\n",
    "            if z == 1:   # 在地板上了, 不用动\n",
    "                return False\n",
    "            else:\n",
    "                below_this_cube = x, y, z-1\n",
    "                if below_this_cube in db and db[below_this_cube] is not None:    # 下面有东西挡住了\n",
    "                    # nb[idx].add(db[below_this_cube])   # 记录下联系\n",
    "                    is_below_empty = False\n",
    "        # 如果真的可以, 就向下移动一格\n",
    "        if is_below_empty:\n",
    "            ## 更新砖块的位置\n",
    "            new_bk = [[(x,y,z-1) for x,y,z in row] for row in bk ]\n",
    "            ## data\n",
    "            # print(data[idx]); print(new_bk)\n",
    "            data[idx] = new_bk\n",
    "            ## 更新 db\n",
    "            for row in bk:\n",
    "                for cb in row:\n",
    "                    db.pop(cb)\n",
    "            for row in new_bk:\n",
    "                for cb in row:\n",
    "                    db[cb] = idx\n",
    "        \n",
    "    return is_below_empty"
   ]
  },
  {
   "cell_type": "code",
   "execution_count": 8,
   "metadata": {},
   "outputs": [
    {
     "name": "stdout",
     "output_type": "stream",
     "text": [
      "[[(7, 3, 47), (8, 3, 47), (9, 3, 47)]]\n",
      "[[(2, 8, 67), (3, 8, 67), (4, 8, 67)]]\n",
      "[[(8, 2, 37)], [(8, 2, 38)], [(8, 2, 39)], [(8, 2, 40)]]\n",
      "[[(3, 1, 138), (3, 2, 138), (3, 3, 138), (3, 4, 138)]]\n",
      "[[(4, 1, 3), (4, 2, 3)]]\n",
      "[[(7, 1, 82), (7, 2, 82), (7, 3, 82)]]\n",
      "[[(1, 5, 54), (2, 5, 54), (3, 5, 54), (4, 5, 54)]]\n",
      "[[(5, 8, 37)]]\n",
      "[[(5, 0, 123), (5, 1, 123), (5, 2, 123), (5, 3, 123)]]\n",
      "[[(2, 8, 66), (3, 8, 66)]]\n"
     ]
    }
   ],
   "source": [
    "# 每一层的每一个格子, 逐个检查\n",
    "for zi in range(1, maxz+1):\n",
    "    for xi in range(maxx+1):\n",
    "        for yi in range(maxy+1):\n",
    "            cb = (xi, yi, zi)\n",
    "            if cb in db and db[cb] is not None: # 被某块砖占据了\n",
    "                idx = db[cb]   # 砖块的 id\n",
    "                fall(idx)      # 尝试向下移动\n",
    "print(*data[:10], sep=\"\\n\")"
   ]
  },
  {
   "cell_type": "code",
   "execution_count": 9,
   "metadata": {},
   "outputs": [
    {
     "name": "stdout",
     "output_type": "stream",
     "text": [
      "set()\n"
     ]
    }
   ],
   "source": [
    "# supported: [supporter]\n",
    "nb = {i:set() for i, bk in enumerate(data)}\n",
    "print(nb[0])"
   ]
  },
  {
   "cell_type": "code",
   "execution_count": 10,
   "metadata": {},
   "outputs": [],
   "source": [
    "# supported by whom?\n",
    "for idx, bk in enumerate(data):\n",
    "    bk = data[idx]\n",
    "    btrow = bk[0]   # 砖块的最底下的一层\n",
    "    is_below_empty = True  # 假设\n",
    "    for cube in btrow:\n",
    "            x, y, z = cube\n",
    "            if z == 1:   # 在地板上了, 不用动\n",
    "                is_below_empty = False\n",
    "                break\n",
    "            else:\n",
    "                below_this_cube = x, y, z-1\n",
    "                if below_this_cube in db and db[below_this_cube] is not None:    # 下面有东西挡住了\n",
    "                    nb[idx].add(db[below_this_cube])   # 记录下联系\n",
    "                    is_below_empty = False\n",
    "    if is_below_empty:\n",
    "        print(\"something is wrong\", idx, bk)"
   ]
  },
  {
   "cell_type": "code",
   "execution_count": 11,
   "metadata": {},
   "outputs": [
    {
     "name": "stdout",
     "output_type": "stream",
     "text": [
      "386\n"
     ]
    }
   ],
   "source": [
    "allidx = set()\n",
    "supporting_idx = set()\n",
    "\n",
    "for idx, _ in enumerate(data):\n",
    "    allidx.add(idx)                                 # 所有的 idx\n",
    "    supporting_idx = supporting_idx.union(nb[idx])  # supporters\n",
    "\n",
    "leaf_idx = allidx - supporting_idx      # 如果没有 support 任何其他的, 那它是一格 leaf (最顶端的)\n",
    "                                        # leaf node 都是可以被安全撤掉的\n",
    "\n",
    "count = 0\n",
    "# 如果一块砖 (1) support A (2) A is supoorteb by at least 2 -> count\n",
    "for idx in supporting_idx:\n",
    "    for jdx, bk in enumerate(data):    # 检查它 support 了谁\n",
    "        issafe = True\n",
    "        if idx in nb[jdx] and len(nb[jdx]) == 1:  # support 了 jdx, 而且是独立 support, 就不能撤掉\n",
    "            issafe = False\n",
    "            break\n",
    "    count += 1 if issafe else 0\n",
    "            \n",
    "count += len(leaf_idx)\n",
    "print(count)"
   ]
  },
  {
   "cell_type": "markdown",
   "metadata": {},
   "source": [
    "## Part II"
   ]
  },
  {
   "cell_type": "code",
   "execution_count": 12,
   "metadata": {},
   "outputs": [],
   "source": [
    "# 构建一个 graph: supporting idx: [supported idx]\n",
    "# 对比 nb: supported idx: [supoorting idx]\n",
    "nb1 = {i:set() for i, bk in enumerate(data)}\n",
    "for idx in allidx:\n",
    "    for jdx in nb[idx]:\n",
    "        nb1[jdx].add(idx)"
   ]
  },
  {
   "cell_type": "code",
   "execution_count": 14,
   "metadata": {},
   "outputs": [],
   "source": [
    "# 检查一块砖由此往上是不是一棵独立的 tree\n",
    "def is_root(idx):\n",
    "    visited = set()\n",
    "    queue = [idx]\n",
    "    while queue:\n",
    "        jdx = queue.pop(0)\n",
    "        visited.add(jdx)\n",
    "        supported = nb1[jdx]  # 所有被它 support 的 bricks\n",
    "        for kdx in supported:\n",
    "            supporters = nb[kdx]\n",
    "            for hdx in supporters:\n",
    "                if hdx not in visited:\n",
    "                    return False, set()\n",
    "            queue.append(kdx)\n",
    "    return True, visited"
   ]
  },
  {
   "cell_type": "code",
   "execution_count": 19,
   "metadata": {},
   "outputs": [],
   "source": [
    "# 检查每一个 idx 是不是 root of a tree\n",
    "# 如果是, 则撤掉它掉落的砖块就是这个 tree 上所有节点的数量 - 1 (它自己)\n",
    "is_root_of_tree = {i:None for i, bk in enumerate(data)}\n",
    "\n",
    "for idx in allidx:\n",
    "    yesorno, visited = is_root(idx)\n",
    "    is_root_of_tree[id] = yesorno, visited"
   ]
  },
  {
   "cell_type": "code",
   "execution_count": 20,
   "metadata": {},
   "outputs": [],
   "source": [
    "# 类似的思路, 检查一块砖撤掉之后会掉落多少\n",
    "def count_falling(idx):\n",
    "    visited = set()\n",
    "    queue = [idx]\n",
    "    while queue:\n",
    "        jdx = queue.pop(0)\n",
    "        visited.add(jdx)\n",
    "        supported = nb1[jdx]  # 所有被它 support 的 bricks\n",
    "        for kdx in supported: # 逐个检查这些 supported bricks\n",
    "            supporters = nb[kdx]   # 看每个 supported bricks 都有哪些 supporters\n",
    "            also_supported_by_others = False\n",
    "            for hdx in supporters: # 看看这些 supporters 是不是已经 visited 过的 bricks\n",
    "                if hdx not in visited:  # 说明这块砖有其他支撑\n",
    "                    also_supported_by_others = True\n",
    "                    break\n",
    "            if not also_supported_by_others:\n",
    "                queue.append(kdx)\n",
    "    return visited"
   ]
  },
  {
   "cell_type": "code",
   "execution_count": 22,
   "metadata": {},
   "outputs": [
    {
     "name": "stdout",
     "output_type": "stream",
     "text": [
      "39933\n"
     ]
    }
   ],
   "source": [
    "res = 0\n",
    "for idx in allidx:\n",
    "    visited = count_falling(idx)\n",
    "    res += len(visited)-1\n",
    "print(res)\n"
   ]
  },
  {
   "cell_type": "code",
   "execution_count": null,
   "metadata": {},
   "outputs": [],
   "source": []
  }
 ],
 "metadata": {
  "kernelspec": {
   "display_name": "work",
   "language": "python",
   "name": "python3"
  },
  "language_info": {
   "codemirror_mode": {
    "name": "ipython",
    "version": 3
   },
   "file_extension": ".py",
   "mimetype": "text/x-python",
   "name": "python",
   "nbconvert_exporter": "python",
   "pygments_lexer": "ipython3",
   "version": "3.9.17"
  }
 },
 "nbformat": 4,
 "nbformat_minor": 2
}
