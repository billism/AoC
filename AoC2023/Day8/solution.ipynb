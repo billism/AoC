{
 "cells": [
  {
   "cell_type": "code",
   "execution_count": null,
   "id": "8e5bcaf4-6b71-4a7a-9c3a-9e2c7c2ec2de",
   "metadata": {
    "scrolled": true
   },
   "outputs": [],
   "source": [
    "def preprocess(fn):\n",
    "    with open(fn) as f:\n",
    "        LRInstruction = f.readline().strip()\n",
    "        f.readline()\n",
    "        \n",
    "        Network = dict()\n",
    "        for line in f:\n",
    "            node_value, node_ref = line.strip().split(\" = \")\n",
    "            node_value = node_value.strip()\n",
    "            node_ref = tuple(node_ref.strip()[1:-1].split(\", \"))\n",
    "            Network[node_value] = node_ref\n",
    "    return LRInstruction, Network\n",
    "\n",
    "def solve_part1(fn):\n",
    "    instructions, chain = preprocess(fn)\n",
    "    current_node = \"AAA\"\n",
    "    step_count = 0\n",
    "    while True:\n",
    "        for i, instruction in enumerate(instructions):\n",
    "            if current_node == \"ZZZ\":\n",
    "                return step_count\n",
    "            else:\n",
    "                select = 0 if instruction == \"L\" else 1\n",
    "                current_node = chain[current_node][select]\n",
    "                step_count += 1\n",
    "\n",
    "def solve_part3(fn):\n",
    "    instructions, chain = preprocess(fn)\n",
    "    start_nodes  = list(chain)\n",
    "    current_nodes = start_nodes\n",
    "    for i, instruction in enumerate(instructions):\n",
    "        select = 0 if instruction == \"L\" else 1\n",
    "        current_nodes = [chain[node][select] for node in current_nodes]\n",
    "    return list(zip(start_nodes, current_nodes))\n",
    "    \n",
    "\n",
    "def solve_part2(fn):\n",
    "    instructions, chain = preprocess(fn)\n",
    "    a_nodes = set([key for key in chain if key.endswith('A')])\n",
    "    z_nodes = set([key for key in chain if key.endswith('Z')])\n",
    "\n",
    "    current_nodes = [node for node in a_nodes]\n",
    "    step_count = 0\n",
    "    while True:\n",
    "        for i, instruction in enumerate(instructions):\n",
    "            if set(current_nodes).issubset(z_nodes):\n",
    "                return step_count\n",
    "            else:\n",
    "                select = 0 if instruction == \"L\" else 1\n",
    "                current_nodes = [chain[node][select] for node in current_nodes]\n",
    "                step_count += 1\n",
    "                \n",
    "instructions, chain = preprocess('input.txt')\n",
    "# print(data)\n",
    "result = solve_part3('input.txt')\n",
    "print(*(sorted(result)), sep='\\n')"
   ]
  },
  {
   "cell_type": "code",
   "execution_count": 2,
   "id": "b806f30c-e015-4a3d-88b0-825fdc59134e",
   "metadata": {},
   "outputs": [],
   "source": [
    "resultd= dict(result)"
   ]
  },
  {
   "cell_type": "code",
   "execution_count": 9,
   "id": "dc27fd34-8f7b-4aef-aced-5d52e34d595e",
   "metadata": {},
   "outputs": [
    {
     "name": "stdout",
     "output_type": "stream",
     "text": [
      "GPA ('SDK', 'MRM') -- 47 round --> CVZ\n",
      "AAA ('PBJ', 'RXK') -- 59 round --> ZZZ\n",
      "VSA ('LQF', 'HMX') -- 61 round --> MKZ\n",
      "BBA ('TVV', 'VLF') -- 67 round --> SKZ\n",
      "GTA ('GSL', 'FMR') -- 71 round --> FPZ\n",
      "VDA ('CBP', 'VRP') -- 79 round --> STZ\n"
     ]
    }
   ],
   "source": [
    "# check from anode to anode\n",
    "anodes = [node for node in resultd if node.endswith('A')]\n",
    "znodes = [node for node in resultd if node.endswith('Z')]\n",
    "results = []\n",
    "for anode in anodes:\n",
    "    count=0\n",
    "    cnode = anode\n",
    "    while True:\n",
    "        count += 1\n",
    "        cnode = resultd[cnode]\n",
    "        if cnode in znodes:\n",
    "            results.append([count, anode, cnode])\n",
    "            break\n",
    "for count, anode, znode in sorted(results):\n",
    "    print(anode, chain[anode], f\"-- {count} round -->\", znode)"
   ]
  },
  {
   "cell_type": "code",
   "execution_count": 13,
   "id": "5299b3d9-3808-4ac1-86a8-8c0beac04f72",
   "metadata": {},
   "outputs": [
    {
     "name": "stdout",
     "output_type": "stream",
     "text": [
      "CVZ ('MRM', 'SDK') -- 47 round --> CVZ\n",
      "ZZZ ('RXK', 'PBJ') -- 59 round --> ZZZ\n",
      "MKZ ('HMX', 'LQF') -- 61 round --> MKZ\n",
      "SKZ ('VLF', 'TVV') -- 67 round --> SKZ\n",
      "FPZ ('FMR', 'GSL') -- 71 round --> FPZ\n",
      "STZ ('VRP', 'CBP') -- 79 round --> STZ\n"
     ]
    }
   ],
   "source": [
    "# check from znode to znode\n",
    "anodes = [node for node in resultd if node.endswith('A')]\n",
    "znodes = [node for node in resultd if node.endswith('Z')]\n",
    "results = []\n",
    "for znode in znodes:\n",
    "    count=0\n",
    "    cnode = znode\n",
    "    while True:\n",
    "        count += 1\n",
    "        cnode = resultd[cnode]\n",
    "        if cnode in anodes:\n",
    "            print(count)\n",
    "        if cnode in znodes:\n",
    "            results.append([count, znode, cnode])\n",
    "            break\n",
    "for count, znode, cnode in sorted(results):\n",
    "    print(znode, chain[znode], f\"-- {count} round -->\", cnode)"
   ]
  },
  {
   "cell_type": "code",
   "execution_count": 12,
   "id": "26313887-5671-4b5d-a463-6c62e36e5c76",
   "metadata": {},
   "outputs": [],
   "source": [
    "for v in list(resultd.values()):\n",
    "    if v.endswith(\"A\"):\n",
    "        print(v)"
   ]
  },
  {
   "cell_type": "code",
   "execution_count": 8,
   "id": "f3c1f860-e331-471b-a51d-e0fdabb45c0b",
   "metadata": {},
   "outputs": [
    {
     "data": {
      "text/plain": [
       "18625484023687"
      ]
     },
     "execution_count": 8,
     "metadata": {},
     "output_type": "execute_result"
    }
   ],
   "source": [
    "instructions, chain = preprocess('input.txt')\n",
    "result * len(instructions)"
   ]
  },
  {
   "cell_type": "code",
   "execution_count": null,
   "id": "725cee27-969d-4189-8b42-6c1c645b580e",
   "metadata": {},
   "outputs": [],
   "source": [
    "CVZ = (MRM, SDK)\n",
    "GPA = (SDK, MRM)"
   ]
  }
 ],
 "metadata": {
  "kernelspec": {
   "display_name": "Python 3 (ipykernel)",
   "language": "python",
   "name": "python3"
  },
  "language_info": {
   "codemirror_mode": {
    "name": "ipython",
    "version": 3
   },
   "file_extension": ".py",
   "mimetype": "text/x-python",
   "name": "python",
   "nbconvert_exporter": "python",
   "pygments_lexer": "ipython3",
   "version": "3.10.13"
  }
 },
 "nbformat": 4,
 "nbformat_minor": 5
}
