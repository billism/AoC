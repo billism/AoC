{
 "cells": [
  {
   "cell_type": "code",
   "execution_count": 1,
   "metadata": {},
   "outputs": [],
   "source": [
    "import numpy as np\n",
    "from collections import Counter\n",
    "import matplotlib.pyplot as plt"
   ]
  },
  {
   "cell_type": "markdown",
   "metadata": {},
   "source": [
    "## 解题"
   ]
  },
  {
   "cell_type": "code",
   "execution_count": 2,
   "metadata": {},
   "outputs": [],
   "source": [
    "fn = 'test1.txt'\n",
    "fn = 'input.txt'"
   ]
  },
  {
   "cell_type": "code",
   "execution_count": 3,
   "metadata": {},
   "outputs": [],
   "source": [
    "data = []\n",
    "with open(fn) as f:\n",
    "    for line in f:\n",
    "        data.append(list(line.strip()))"
   ]
  },
  {
   "cell_type": "code",
   "execution_count": 4,
   "metadata": {},
   "outputs": [
    {
     "name": "stdout",
     "output_type": "stream",
     "text": [
      "131 131\n"
     ]
    }
   ],
   "source": [
    "print(len(data), len(data[0]))"
   ]
  },
  {
   "cell_type": "code",
   "execution_count": 5,
   "metadata": {},
   "outputs": [
    {
     "name": "stdout",
     "output_type": "stream",
     "text": [
      "start pos (0, 0, 65, 65)\n"
     ]
    }
   ],
   "source": [
    "start_pos = None\n",
    "# 找到 S 位置, 记录\n",
    "for i, row in enumerate(data):\n",
    "    # print(row)\n",
    "    for j, ele in enumerate(row):\n",
    "        if ele == \"S\":\n",
    "            start_pos=(0, 0, i,j)\n",
    "print(\"start pos\", start_pos)"
   ]
  },
  {
   "cell_type": "code",
   "execution_count": 6,
   "metadata": {},
   "outputs": [],
   "source": [
    "def get_nbs(pos, grid):\n",
    "    x, y, i, j = pos\n",
    "    nrow, ncol = len(grid), len(grid[0])\n",
    "    tmp = [(i-1,j),(i+1,j),(i,j-1),(i,j+1)]\n",
    "    nbs = []\n",
    "    for nbi, nbj in tmp:\n",
    "        newx, newy = x, y\n",
    "        nbii, nbjj = nbi, nbj\n",
    "        if nbi < 0:\n",
    "            newx -= 1\n",
    "            nbii += nrow\n",
    "        # if 0 <= nbi < nrow:\n",
    "        #     pass\n",
    "        if nrow <= nbi:\n",
    "            newx += 1\n",
    "            nbii -= nrow\n",
    "        if nbj < 0:\n",
    "            newy -= 1\n",
    "            nbjj += ncol\n",
    "        # if 0 <= nbj < ncol:\n",
    "        #     pass\n",
    "        if ncol <= nbj:\n",
    "            newy += 1\n",
    "            nbjj -= ncol\n",
    "        if grid[nbii][nbjj] == \"#\":\n",
    "            continue\n",
    "        nbs.append((newx, newy, nbii,nbjj))\n",
    "    return nbs"
   ]
  },
  {
   "cell_type": "code",
   "execution_count": null,
   "metadata": {},
   "outputs": [],
   "source": [
    "queue = []\n",
    "subq = set()\n",
    "subq.add(start_pos)\n",
    "queue.append(subq)\n",
    "\n",
    "# k for kth step\n",
    "for k in range(600):\n",
    "    subq = queue[k]  # current positions\n",
    "    new_subq = set() # next positions\n",
    "    for x, y, i, j in subq:\n",
    "        nbs = get_nbs((x, y, i,j), data)\n",
    "        for nb in nbs:\n",
    "            if nb in new_subq:\n",
    "                continue\n",
    "            else:\n",
    "                new_subq.add(nb)\n",
    "    queue.append(new_subq)"
   ]
  },
  {
   "cell_type": "code",
   "execution_count": null,
   "metadata": {},
   "outputs": [],
   "source": [
    "\n",
    "for n in range(5):\n",
    "    s = n * 131 + 65\n",
    "    subq = queue[s]\n",
    "    subqq = [(x,y) for x,y,i,j in subq]\n",
    "    ct = Counter(subqq)\n",
    "    ctx, cty = list(zip(*ct.keys()))\n",
    "    ctc = list(ct.values())\n",
    "    fig, ax = plt.subplots(figsize=((n+1)*2,(n+1)*2))\n",
    "    ax.set_xlim([-n-1.5,n+1.5])\n",
    "    ax.set_ylim([-n-1.5,n+1.5])\n",
    "    ax.set_xticks(np.arange(-n-1.5,n+1.6,1))\n",
    "    ax.set_yticks(np.arange(-n-1.5,n+1.6,1))\n",
    "    ax.set_xticklabels([])\n",
    "    ax.set_yticklabels([])\n",
    "    ax.grid()\n",
    "    ax.set_aspect('equal')\n",
    "    ax.scatter(ctx, cty, c=ctc, alpha=0.5, marker='s', s=1500, edgecolors='none', cmap='jet')\n",
    "    for x, y, t in zip(ctx, cty, ctc):\n",
    "        ax.text(x, y, t, fontsize=12, weight='bold', horizontalalignment='center', verticalalignment='center')\n",
    "plt.show()"
   ]
  },
  {
   "cell_type": "raw",
   "metadata": {},
   "source": [
    "观察 input 的形状\n",
    "- 131x131, S 在正中间\n",
    "- 有一个十字形和菱形的道路\n",
    "- 水平或垂直方向, 走 65 步到边界, 66 步正好出边界\n",
    "- 66+65=131 步正好走到临近 field 的中央位置\n",
    "- 似乎是这样设计的, 130 步的时候正好进入循环 (7082->7193->7082), 然后 131 步的时候进入临近 field 的中央,\n",
    "- 这样循环正好错开一步, 再过 130 步, 当新的 field 的进入循环的时候 (7082), 旧的 field 正好是 7193.\n",
    "- 26501365 / 131 = 202300 ... 65. 即正好能走到水平位置第 202300 格子的中央位置.\n",
    "- 这时候总共有多少个格子呢? n**2+(n-1)**2 个\n",
    "- "
   ]
  },
  {
   "cell_type": "code",
   "execution_count": null,
   "metadata": {},
   "outputs": [
    {
     "name": "stdout",
     "output_type": "stream",
     "text": [
      "26501365 202300 65\n",
      "81850175401\n",
      "7082 7193\n",
      "584205649379882\n"
     ]
    },
    {
     "data": {
      "text/plain": [
       "584211423220706"
      ]
     },
     "metadata": {},
     "output_type": "display_data"
    }
   ],
   "source": [
    "# 584205649379882 too low\n",
    "\n",
    "s = 26501365\n",
    "# s = 131*2+65\n",
    "n, r = divmod(s, 131)\n",
    "print(s, n, r)\n",
    "print(n**2+(n-1)**2)\n",
    "\n",
    "a = 7082 if s % 2 == 1 else 7193\n",
    "b = 7193 if a == 7082 else 7082\n",
    "print(a, b)\n",
    "res = 0\n",
    "for i in range(n):\n",
    "    if i == 0:\n",
    "        res += a\n",
    "    elif i % 2 == 1:\n",
    "        res += (4*i)*b\n",
    "    else:\n",
    "        res += (4*i)*a\n",
    "print(res)\n",
    "\n",
    "# res + (5365+5346+5331+5350) + (875*n + 875*n + 858*n + 867*n) + (6263*(n-1) + 6276*(n-1) + 6282*(n-1) + 6261*(n-1))\n",
    "res+(5357+5348+5340+5331)+(932+929+917+911)*n+(6224+6215+6207+6206)*(n-1)"
   ]
  },
  {
   "cell_type": "code",
   "execution_count": null,
   "metadata": {},
   "outputs": [
    {
     "data": {
      "text/plain": [
       "89460"
      ]
     },
     "metadata": {},
     "output_type": "display_data"
    }
   ],
   "source": [
    "len(queue[s])"
   ]
  }
 ],
 "metadata": {
  "kernelspec": {
   "display_name": "work",
   "language": "python",
   "name": "python3"
  },
  "language_info": {
   "codemirror_mode": {
    "name": "ipython",
    "version": 3
   },
   "file_extension": ".py",
   "mimetype": "text/x-python",
   "name": "python",
   "nbconvert_exporter": "python",
   "pygments_lexer": "ipython3",
   "version": "3.10.13"
  }
 },
 "nbformat": 4,
 "nbformat_minor": 2
}
