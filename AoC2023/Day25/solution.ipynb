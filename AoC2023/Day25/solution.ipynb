{
 "cells": [
  {
   "cell_type": "code",
   "execution_count": 20,
   "metadata": {},
   "outputs": [],
   "source": [
    "import numpy as np\n",
    "import matplotlib.pyplot as plt"
   ]
  },
  {
   "cell_type": "code",
   "execution_count": 21,
   "metadata": {},
   "outputs": [
    {
     "name": "stdout",
     "output_type": "stream",
     "text": [
      "[['dlk', ['skp']], ['rdx', ['xff']], ['dmc', ['thp']]]\n"
     ]
    }
   ],
   "source": [
    "def read_data(fn):\n",
    "    data = []\n",
    "    with open(fn) as f:\n",
    "        for line in f:\n",
    "            lhs, rhs = line.strip().split(\":\")\n",
    "            lhs = lhs.strip()\n",
    "            rhs = rhs.strip().split()\n",
    "            data.append([lhs, rhs])\n",
    "    return data\n",
    "\n",
    "fn = 'test1.txt'\n",
    "fn = 'input.txt'\n",
    "\n",
    "data = read_data(fn)\n",
    "print(data[:3])"
   ]
  },
  {
   "cell_type": "code",
   "execution_count": 22,
   "metadata": {},
   "outputs": [],
   "source": [
    "# 构建一个 graph\n",
    "D = {}\n",
    "for k, v in data:\n",
    "    if k not in D:\n",
    "        D[k] = []\n",
    "    for k1 in v:\n",
    "        D[k].append(k1)\n",
    "        if k1 not in D:\n",
    "            D[k1] = []\n",
    "        D[k1].append(k)\n",
    "\n",
    "for k in D:\n",
    "    D[k] = sorted(list(set(D[k])))\n",
    "\n",
    "# D"
   ]
  },
  {
   "cell_type": "code",
   "execution_count": 23,
   "metadata": {},
   "outputs": [],
   "source": [
    "tobreak = [\n",
    "    ['rks', 'kzh'],\n",
    "    ['ddc', 'gqm'],\n",
    "    ['dgt', 'tnz']\n",
    "]"
   ]
  },
  {
   "cell_type": "code",
   "execution_count": 24,
   "metadata": {},
   "outputs": [],
   "source": [
    "for a, b in tobreak:\n",
    "    for k in D:\n",
    "        if a == k:\n",
    "            D[a].remove(b)\n",
    "            D[b].remove(a)"
   ]
  },
  {
   "cell_type": "code",
   "execution_count": 25,
   "metadata": {},
   "outputs": [
    {
     "data": {
      "text/plain": [
       "(['fhk', 'jcg', 'lqr', 'mgv'],\n",
       " ['jtm', 'ldz', 'vkv', 'znm'],\n",
       " ['blb', 'ttq', 'vkl'],\n",
       " ['fpr', 'jct', 'ncm', 'nsm'],\n",
       " ['hnd', 'htm', 'qxf'],\n",
       " ['cqs', 'lgx', 'qpx', 'qxh', 'zdk'])"
      ]
     },
     "execution_count": 25,
     "metadata": {},
     "output_type": "execute_result"
    }
   ],
   "source": [
    "D['rks'], D['kzh'], D['ddc'], D['gqm'], D['dgt'], D['tnz']"
   ]
  },
  {
   "cell_type": "code",
   "execution_count": 26,
   "metadata": {},
   "outputs": [],
   "source": [
    "# count by walk\n",
    "start_node = 'rks'\n",
    "queue = []\n",
    "queue.append(start_node)\n",
    "visited = set()\n",
    "while queue:\n",
    "    node = queue.pop(0)\n",
    "    visited.add(node)\n",
    "    nbs = D[node]\n",
    "    for nb in nbs:\n",
    "        if nb in visited:\n",
    "            continue\n",
    "        queue.append(nb)"
   ]
  },
  {
   "cell_type": "code",
   "execution_count": 27,
   "metadata": {},
   "outputs": [
    {
     "data": {
      "text/plain": [
       "735"
      ]
     },
     "execution_count": 27,
     "metadata": {},
     "output_type": "execute_result"
    }
   ],
   "source": [
    "len(visited)"
   ]
  },
  {
   "cell_type": "code",
   "execution_count": 28,
   "metadata": {},
   "outputs": [
    {
     "data": {
      "text/plain": [
       "708"
      ]
     },
     "execution_count": 28,
     "metadata": {},
     "output_type": "execute_result"
    }
   ],
   "source": [
    "len(D) - len(visited)"
   ]
  },
  {
   "cell_type": "code",
   "execution_count": 29,
   "metadata": {},
   "outputs": [
    {
     "data": {
      "text/plain": [
       "520380"
      ]
     },
     "execution_count": 29,
     "metadata": {},
     "output_type": "execute_result"
    }
   ],
   "source": [
    "708 * 735"
   ]
  },
  {
   "cell_type": "code",
   "execution_count": null,
   "metadata": {},
   "outputs": [],
   "source": []
  }
 ],
 "metadata": {
  "kernelspec": {
   "display_name": "work",
   "language": "python",
   "name": "python3"
  },
  "language_info": {
   "codemirror_mode": {
    "name": "ipython",
    "version": 3
   },
   "file_extension": ".py",
   "mimetype": "text/x-python",
   "name": "python",
   "nbconvert_exporter": "python",
   "pygments_lexer": "ipython3",
   "version": "3.9.17"
  }
 },
 "nbformat": 4,
 "nbformat_minor": 2
}
