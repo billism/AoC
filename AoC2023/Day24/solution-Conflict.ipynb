{
 "cells": [
  {
   "cell_type": "code",
   "execution_count": 1,
   "metadata": {},
   "outputs": [
    {
     "name": "stdout",
     "output_type": "stream",
     "text": [
      "300\n",
      "[([171178400007298, 165283791547432, 246565404194007], [190, 186, 60]), ([250314870325177, 283762496814661, 272019235409859], [45, 15, 8]), ([192727134181171, 456146317292988, 246796112051543], [22, -541, -70])]\n"
     ]
    }
   ],
   "source": [
    "fn = \"test1.txt\"\n",
    "fn = 'input.txt'\n",
    "\n",
    "stones = []\n",
    "with open(fn) as f:\n",
    "    for line in f:\n",
    "        p, v = line.strip().split(\"@\")\n",
    "        p = list(map(int, p.strip().split(\",\")))\n",
    "        v = list(map(int, v.strip().split(\",\")))\n",
    "        stones.append((p, v))\n",
    "\n",
    "print(len(stones))\n",
    "print(stones[:3])"
   ]
  },
  {
   "cell_type": "code",
   "execution_count": 2,
   "metadata": {},
   "outputs": [],
   "source": [
    "minx = 200000000000000\n",
    "maxx = 400000000000000\n",
    "miny = minx\n",
    "maxy = maxx"
   ]
  },
  {
   "cell_type": "code",
   "execution_count": 3,
   "metadata": {},
   "outputs": [],
   "source": [
    "def get_intersection2d(p1, p2, v1, v2):\n",
    "    # 斜率\n",
    "    k1 = v1[1]/v1[0]\n",
    "    k2 = v2[1]/v2[0]\n",
    "    # 是否平行 (无交点)\n",
    "    if k1 == k2:\n",
    "        # print(\"平行了\")\n",
    "        return None, None\n",
    "    else:\n",
    "        x = (k1*p1[0]-p1[1]-k2*p2[0]+p2[1]) / (k1-k2)\n",
    "        y = k1 * x - k1*p1[0] + p1[1]\n",
    "        if (x-p1[0])/v1[0] > 0 and (x-p2[0])/v2[0] >0:\n",
    "            return (x, y)\n",
    "        else:\n",
    "            return None, None"
   ]
  },
  {
   "cell_type": "code",
   "execution_count": 4,
   "metadata": {},
   "outputs": [],
   "source": [
    "# count = 0\n",
    "# for i, A in enumerate(stones):\n",
    "#     for j, B in enumerate(stones):\n",
    "#         if i == j:\n",
    "#             continue\n",
    "#         else:\n",
    "#             p1, v1 = A\n",
    "#             p2, v2 = B\n",
    "#             x, y = get_intersection2d(p1, p2, v1, v2)\n",
    "#             if x is None or y is None:\n",
    "#                 pass\n",
    "#             else:\n",
    "#                 if minx <= x <= maxx and miny <= y <= maxy:\n",
    "#                     count += 1\n",
    "# print(count/2)"
   ]
  },
  {
   "cell_type": "code",
   "execution_count": 5,
   "metadata": {},
   "outputs": [],
   "source": [
    "# 已知:\n",
    "# 没有平行的\n",
    "# 没有相交的\n",
    "# 假设 rock 与 L1 在 t1 相交于 pp1 = p1 + t1 * v1\n",
    "# 与 L2 在 t2 相交于 pp2 = p2 + t2 * v2\n",
    "# 于 L3 在 t3 相交于 pp3 = p3 + t3 * v3\n",
    "# 所以 pp1, pp2, pp3 在一条直线上\n",
    "# 而且 (pp3-pp2) 和 (pp2-pp1) 与 (t3-t2) 和 (t2-t1) 成正比 (因为 rock 的飞行速度恒定, 飞行距离与时间成正比)"
   ]
  },
  {
   "cell_type": "code",
   "execution_count": 6,
   "metadata": {},
   "outputs": [
    {
     "name": "stdout",
     "output_type": "stream",
     "text": [
      "(554254222135, 178128108482, 630699045774)\n"
     ]
    }
   ],
   "source": [
    "import sympy as sp\n",
    "from sympy import symbols, Eq, solve\n",
    "\n",
    "t1, t2, t3 = symbols('t1 t2 t3')\n",
    "\n",
    "p1, v1 = stones[1]\n",
    "p2, v2 = stones[2]\n",
    "p3, v3 = stones[3]\n",
    "\n",
    "p1, v1 = sp.Matrix(p1), sp.Matrix(v1)\n",
    "p2, v2 = sp.Matrix(p2), sp.Matrix(v2)\n",
    "p3, v3 = sp.Matrix(p3), sp.Matrix(v3)\n",
    "\n",
    "equation = Eq((p3+t3*v3), (p1+t1*v1)+(t3-t1)/(t2-t1)*((p2+t2*v2)-(p1+t1*v1)))\n",
    "\n",
    "solutions = solve(equation, (t1, t2, t3))\n",
    "\n",
    "for solution in solutions:\n",
    "    print(solution)"
   ]
  },
  {
   "cell_type": "code",
   "execution_count": 7,
   "metadata": {},
   "outputs": [
    {
     "data": {
      "text/plain": [
       "(554254222135, 178128108482, 630699045774)"
      ]
     },
     "execution_count": 7,
     "metadata": {},
     "output_type": "execute_result"
    }
   ],
   "source": [
    "a,b,c=solutions[0]\n",
    "a,b,c"
   ]
  },
  {
   "cell_type": "code",
   "execution_count": 8,
   "metadata": {},
   "outputs": [
    {
     "data": {
      "text/plain": [
       "(Matrix([[45, 15, 8]]), Matrix([[22, -541, -70]]), Matrix([[-23, -556, -78]]))"
      ]
     },
     "execution_count": 8,
     "metadata": {},
     "output_type": "execute_result"
    }
   ],
   "source": [
    "v1.T, v2.T, (v2-v1).T"
   ]
  },
  {
   "cell_type": "code",
   "execution_count": 9,
   "metadata": {},
   "outputs": [
    {
     "data": {
      "text/plain": [
       "(Matrix([[250314870325177, 283762496814661, 272019235409859]]),\n",
       " Matrix([[192727134181171, 456146317292988, 246796112051543]]),\n",
       " Matrix([[242038752891431, 261287367655768, 330425420730235]]))"
      ]
     },
     "execution_count": 9,
     "metadata": {},
     "output_type": "execute_result"
    }
   ],
   "source": [
    "p1.T, p2.T, p3.T"
   ]
  },
  {
   "cell_type": "code",
   "execution_count": 15,
   "metadata": {},
   "outputs": [
    {
     "name": "stdout",
     "output_type": "stream",
     "text": [
      "200 -190 t1\n",
      "200 -190 t2\n",
      "200 -189 t1\n",
      "200 -189 t2\n",
      "200 -188 t1\n",
      "200 -188 t2\n",
      "200 -187 t1\n",
      "200 -187 t2\n",
      "200 -186 t1\n",
      "200 -186 t2\n",
      "200 -185 t1\n",
      "200 -185 t2\n",
      "200 -184 t1\n",
      "200 -184 t2\n",
      "200 -183 t1\n",
      "200 -183 t2\n",
      "200 -182 t1\n",
      "200 -182 t2\n",
      "200 -181 t1\n",
      "200 -181 t2\n",
      "200 -180 t1\n",
      "200 -180 t2\n",
      "200 -179 t1\n",
      "200 -179 t2\n",
      "200 -178 t1\n",
      "200 -178 t2\n",
      "200 -177 t1\n",
      "200 -177 t2\n",
      "200 -176 t1\n",
      "200 -176 t2\n",
      "200 -175 t1\n",
      "200 -175 t2\n",
      "200 -174 t1\n",
      "200 -174 t2\n",
      "200 -173 t1\n",
      "200 -173 t2\n",
      "200 -172 t1\n",
      "200 -172 t2\n",
      "200 -171 t1\n",
      "200 -171 t2\n",
      "201 -190 t1\n",
      "201 -190 t2\n",
      "201 -189 t1\n",
      "201 -189 t2\n",
      "201 -188 t1\n",
      "201 -188 t2\n",
      "201 -187 t1\n",
      "201 -187 t2\n",
      "201 -186 t1\n",
      "201 -186 t2\n",
      "201 -185 t1\n",
      "201 -185 t2\n",
      "201 -184 t1\n",
      "201 -184 t2\n",
      "201 -183 t1\n",
      "201 -183 t2\n",
      "201 -182 t1\n",
      "201 -182 t2\n",
      "201 -181 t1\n",
      "201 -181 t2\n",
      "201 -180 t1\n",
      "201 -180 t2\n",
      "201 -179 t1\n",
      "201 -179 t2\n",
      "201 -178 t1\n",
      "201 -178 t2\n",
      "201 -177 t1\n",
      "201 -177 t2\n",
      "201 -176 t1\n",
      "201 -176 t2\n",
      "201 -175 t1\n",
      "201 -175 t2\n",
      "201 -174 t1\n",
      "201 -174 t2\n",
      "201 -173 t1\n",
      "201 -173 t2\n",
      "201 -172 t1\n",
      "201 -172 t2\n",
      "201 -171 t1\n",
      "201 -171 t2\n",
      "202 -190 t1\n",
      "202 -190 t2\n",
      "202 -189 t1\n",
      "202 -189 t2\n",
      "202 -188 t1\n",
      "202 -188 t2\n",
      "202 -187 t1\n",
      "202 -187 t2\n",
      "202 -186 t1\n",
      "202 -186 t2\n",
      "202 -185 t1\n",
      "202 -185 t2\n",
      "202 -184 t1\n",
      "202 -184 t2\n",
      "202 -183 t1\n",
      "202 -183 t2\n",
      "202 -182 t1\n",
      "202 -182 t2\n",
      "202 -181 t1\n",
      "202 -181 t2\n",
      "202 -180 t1\n",
      "202 -180 t2\n",
      "202 -179 t1\n",
      "202 -179 t2\n",
      "202 -178 t1\n",
      "202 -178 t2\n",
      "202 -177 t1\n",
      "202 -177 t2\n",
      "202 -176 t1\n",
      "202 -176 t2\n",
      "202 -175 t1\n",
      "202 -175 t2\n",
      "202 -174 t1\n",
      "202 -174 t2\n",
      "202 -173 t1\n",
      "202 -173 t2\n",
      "202 -172 t1\n",
      "202 -172 t2\n",
      "202 -171 t1\n",
      "202 -171 t2\n",
      "203 -190 t1\n",
      "203 -190 t2\n",
      "203 -189 t1\n",
      "203 -189 t2\n",
      "203 -188 t1\n",
      "203 -188 t2\n",
      "203 -187 t1\n",
      "203 -187 t2\n",
      "203 -186 t1\n",
      "203 -186 t2\n",
      "203 -185 t1\n",
      "203 -185 t2\n",
      "203 -184 t1\n",
      "203 -184 t2\n",
      "203 -183 t1\n",
      "203 -183 t2\n",
      "203 -182 t1\n",
      "203 -182 t2\n",
      "203 -181 t1\n",
      "203 -181 t2\n",
      "203 -180 t1\n",
      "203 -180 t2\n",
      "203 -179 t1\n",
      "203 -179 t2\n",
      "203 -178 t1\n",
      "203 -178 t2\n",
      "203 -177 t1\n",
      "203 -177 t2\n",
      "203 -176 t1\n",
      "203 -176 t2\n",
      "203 -175 t1\n",
      "203 -175 t2\n",
      "203 -174 t1\n",
      "203 -174 t2\n",
      "203 -173 t1\n",
      "203 -173 t2\n",
      "203 -172 t1\n",
      "203 -172 t2\n",
      "203 -171 t1\n",
      "203 -171 t2\n",
      "204 -190 t1\n",
      "204 -190 t2\n",
      "204 -189 t1\n",
      "204 -189 t2\n",
      "204 -188 t1\n",
      "204 -188 t2\n",
      "204 -187 t1\n",
      "204 -187 t2\n",
      "204 -186 t1\n",
      "204 -186 t2\n",
      "204 -185 t1\n",
      "204 -185 t2\n",
      "204 -184 t1\n",
      "204 -184 t2\n",
      "204 -183 t1\n",
      "204 -183 t2\n",
      "204 -182 t1\n",
      "204 -182 t2\n",
      "204 -181 t1\n",
      "204 -181 t2\n",
      "204 -180 t1\n",
      "204 -180 t2\n",
      "204 -179 t1\n",
      "204 -179 t2\n",
      "204 -178 t1\n",
      "204 -178 t2\n",
      "204 -177 t1\n",
      "204 -177 t2\n",
      "204 -176 t1\n",
      "204 -176 t2\n",
      "204 -175 t1\n",
      "204 -175 t2\n",
      "204 -174 t1\n",
      "204 -174 t2\n",
      "204 -173 t1\n",
      "204 -173 t2\n",
      "204 -172 t1\n",
      "204 -172 t2\n",
      "204 -171 t1\n",
      "204 -171 t2\n",
      "205 -190 t1\n",
      "205 -190 t2\n",
      "205 -189 t1\n",
      "205 -189 t2\n",
      "205 -188 t1\n",
      "205 -188 t2\n",
      "205 -187 t1\n",
      "205 -187 t2\n",
      "205 -186 t1\n",
      "205 -186 t2\n",
      "205 -185 t1\n",
      "205 -185 t2\n",
      "205 -184 t1\n",
      "205 -184 t2\n",
      "205 -183 t1\n",
      "205 -183 t2\n",
      "205 -182 t1\n",
      "205 -182 t2\n",
      "205 -181 t1\n",
      "205 -181 t2\n",
      "205 -180 t1\n",
      "205 -180 t2\n",
      "205 -179 t1\n",
      "205 -179 t2\n",
      "205 -178 t1\n",
      "205 -178 t2\n",
      "205 -177 t1\n",
      "205 -177 t2\n",
      "205 -176 t1\n",
      "205 -176 t2\n",
      "205 -175 t1\n",
      "205 -175 t2\n",
      "205 -174 t1\n",
      "205 -174 t2\n",
      "205 -173 t1\n",
      "205 -173 t2\n",
      "205 -172 t1\n",
      "205 -172 t2\n",
      "205 -171 t1\n",
      "205 -171 t2\n",
      "206 -190 t1\n",
      "206 -190 t2\n",
      "206 -189 t1\n",
      "206 -189 t2\n",
      "206 -188 t1\n",
      "206 -188 t2\n",
      "206 -187 t1\n",
      "206 -187 t2\n",
      "206 -186 t1\n",
      "206 -186 t2\n",
      "206 -185 t1\n",
      "206 -185 t2\n",
      "206 -184 t1\n",
      "206 -184 t2\n",
      "206 -183 t1\n",
      "206 -183 t2\n",
      "206 -182 t1\n",
      "206 -182 t2\n",
      "206 -181 t1\n",
      "206 -181 t2\n",
      "206 -180 t1\n",
      "206 -180 t2\n",
      "206 -179 t1\n",
      "206 -179 t2\n",
      "206 -178 t1\n",
      "206 -178 t2\n",
      "206 -177 t1\n",
      "206 -177 t2\n",
      "206 -176 t1\n",
      "206 -176 t2\n",
      "206 -175 t1\n",
      "206 -175 t2\n",
      "206 -174 t1\n",
      "206 -174 t2\n",
      "206 -173 t1\n",
      "206 -173 t2\n",
      "206 -172 t1\n",
      "206 -172 t2\n",
      "206 -171 t1\n",
      "206 -171 t2\n",
      "207 -190 t1\n",
      "207 -190 t2\n",
      "207 -189 t1\n",
      "207 -189 t2\n",
      "207 -188 t1\n",
      "207 -188 t2\n",
      "207 -187 t1\n",
      "207 -187 t2\n",
      "207 -186 t1\n",
      "207 -186 t2\n",
      "207 -185 t1\n",
      "207 -185 t2\n",
      "207 -184 t1\n",
      "207 -184 t2\n",
      "207 -183 t1\n",
      "207 -183 t2\n",
      "207 -182 t1\n",
      "207 -182 t2\n",
      "207 -181 t1\n",
      "207 -181 t2\n",
      "207 -180 t1\n",
      "207 -180 t2\n",
      "207 -179 t1\n",
      "207 -179 t2\n",
      "207 -178 t1\n",
      "207 -178 t2\n",
      "207 -177 t1\n",
      "207 -177 t2\n",
      "207 -176 t1\n",
      "207 -176 t2\n",
      "207 -175 t1\n",
      "207 -175 t2\n",
      "207 -174 t1\n",
      "207 -174 t2\n",
      "207 -173 t1\n",
      "207 -173 t2\n",
      "207 -172 t1\n",
      "207 -172 t2\n",
      "207 -171 t1\n",
      "207 -171 t2\n",
      "208 -190 t1\n",
      "208 -190 t2\n",
      "208 -189 t1\n",
      "208 -189 t2\n",
      "208 -188 t1\n",
      "208 -188 t2\n",
      "208 -187 t1\n",
      "208 -187 t2\n",
      "208 -186 t1\n",
      "208 -186 t2\n",
      "208 -185 t1\n",
      "208 -185 t2\n",
      "208 -184 t1\n",
      "208 -184 t2\n",
      "208 -183 t1\n",
      "208 -183 t2\n",
      "208 -182 t1\n",
      "208 -182 t2\n",
      "208 -181 t1\n",
      "208 -181 t2\n",
      "208 -180 t1\n",
      "208 -180 t2\n",
      "208 -179 t1\n",
      "208 -179 t2\n",
      "208 -178 t1\n",
      "208 -178 t2\n",
      "208 -177 t1\n",
      "208 -177 t2\n",
      "208 -176 t1\n",
      "208 -176 t2\n",
      "208 -175 t1\n",
      "208 -175 t2\n",
      "208 -174 t1\n",
      "208 -174 t2\n",
      "208 -173 t1\n",
      "208 -173 t2\n",
      "208 -172 t1\n",
      "208 -172 t2\n",
      "208 -171 t1\n",
      "208 -171 t2\n",
      "209 -190 t1\n",
      "209 -190 t2\n",
      "209 -189 t1\n",
      "209 -189 t2\n",
      "209 -188 t1\n",
      "209 -188 t2\n",
      "209 -187 t1\n",
      "209 -187 t2\n",
      "209 -186 t1\n",
      "209 -186 t2\n",
      "209 -185 t1\n",
      "209 -185 t2\n",
      "209 -184 t1\n",
      "209 -184 t2\n",
      "209 -183 t1\n",
      "209 -183 t2\n",
      "209 -182 t1\n",
      "209 -182 t2\n",
      "209 -181 t1\n",
      "209 -181 t2\n",
      "209 -180 t1\n",
      "209 -180 t2\n",
      "209 -179 t1\n",
      "209 -179 t2\n",
      "209 -178 t1\n",
      "209 -178 t2\n",
      "209 -177 t1\n",
      "209 -177 t2\n",
      "209 -176 t1\n",
      "209 -176 t2\n",
      "209 -175 t1\n",
      "209 -175 t2\n",
      "209 -174 t1\n",
      "209 -174 t2\n",
      "209 -173 t1\n",
      "209 -173 t2\n",
      "209 -172 t1\n",
      "209 -172 t2\n",
      "209 -171 t1\n",
      "209 -171 t2\n"
     ]
    }
   ],
   "source": [
    "for i in range(200,210):\n",
    "    for j in range(-190,-170):\n",
    "        equation1 = Eq(p2[0]-p1[0]+(t2*v2[0]-t1*v1[0]), i*(t2-t1))\n",
    "        equation2 = Eq(p2[1]-p1[1]+(t2*v2[1]-t1*v1[1]), j*(t2-t1))\n",
    "        solutions1 = solve([equation1, equation2], (t1, t2))\n",
    "        for solution in solutions1:\n",
    "            print(i, j, solution)"
   ]
  },
  {
   "cell_type": "code",
   "execution_count": 11,
   "metadata": {},
   "outputs": [
    {
     "data": {
      "text/plain": [
       "(192727134181171,\n",
       " Matrix([\n",
       " [192727134181171],\n",
       " [456146317292988],\n",
       " [246796112051543]]))"
      ]
     },
     "execution_count": 11,
     "metadata": {},
     "output_type": "execute_result"
    }
   ],
   "source": [
    "p2[0], p2"
   ]
  },
  {
   "cell_type": "code",
   "execution_count": 86,
   "metadata": {},
   "outputs": [
    {
     "name": "stdout",
     "output_type": "stream",
     "text": [
      "[2, 3, 3, 3199318674667]\n",
      "[23, 47, 159466993967]\n",
      "[2, 2, 13, 485060064583]\n",
      "[2, 2, 5, 2465580935513]\n",
      "[2, 2, 5, 11, 885722498351]\n",
      "[2, 2, 7, 2986761024239]\n",
      "[2, 1069, 3870962317]\n",
      "[3, 7491709719631]\n",
      "[2, 2, 2, 19, 384251219213]\n",
      "[17, 22125065509]\n",
      "[2, 2, 113142734323]\n",
      "[53, 1442355163]\n",
      "[2, 2, 13, 17, 311375916653]\n",
      "[2, 13, 11233704236411]\n",
      "[13, 21265636091303]\n",
      "[11, 19]\n",
      "[2, 2, 3, 3, 5]\n",
      "[2, 2, 2, 2, 7]\n"
     ]
    }
   ],
   "source": [
    "from functools import lru_cache\n",
    "\n",
    "primes = []\n",
    "\n",
    "\n",
    "@lru_cache(maxsize=None)\n",
    "def factors(n: int):\n",
    "    if n < 2:\n",
    "        return\n",
    "    factors(int(n ** 0.5))\n",
    "\n",
    "    for prime in primes:\n",
    "        if n % prime == 0:\n",
    "            return sorted((prime, *factors(n // prime)))\n",
    "\n",
    "    primes.append(n)\n",
    "    return [n]\n",
    "\n",
    "\n",
    "print(factors(57587736144006))\n",
    "print(factors(172383820478327))\n",
    "print(factors(25223123358316))\n",
    "\n",
    "print(factors(49311618710260))\n",
    "print(factors(194858949637220))\n",
    "print(factors(83629308678692))\n",
    "\n",
    "print(factors(8276117433746))\n",
    "print(factors(22475129158893))\n",
    "print(factors(58406185320376))\n",
    "\n",
    "print(factors(376126113653))\n",
    "print(factors(452570937292))\n",
    "print(factors(76444823639))\n",
    "\n",
    "print(factors(275256310321252))\n",
    "print(factors(292076310146686))\n",
    "print(factors(276453269186939))\n",
    "\n",
    "print(factors(209))\n",
    "print(factors(180))\n",
    "print(factors(112))\n",
    "\n"
   ]
  },
  {
   "cell_type": "code",
   "execution_count": 80,
   "metadata": {},
   "outputs": [
    {
     "data": {
      "text/plain": [
       "(-376126113653, 452570937292, 76444823639)"
      ]
     },
     "execution_count": 80,
     "metadata": {},
     "output_type": "execute_result"
    }
   ],
   "source": [
    "b-a, c-b, c-a"
   ]
  },
  {
   "cell_type": "code",
   "execution_count": 24,
   "metadata": {},
   "outputs": [
    {
     "data": {
      "text/latex": [
       "$\\displaystyle - \\frac{452570937292}{376126113653}$"
      ],
      "text/plain": [
       "-452570937292/376126113653"
      ]
     },
     "execution_count": 24,
     "metadata": {},
     "output_type": "execute_result"
    }
   ],
   "source": [
    "sp.simplify((c-b)/(b-a))"
   ]
  },
  {
   "cell_type": "code",
   "execution_count": 15,
   "metadata": {},
   "outputs": [
    {
     "data": {
      "text/latex": [
       "$\\displaystyle \\left[\\begin{matrix}78 t_{3} + 242038752891431\\\\27 t_{3} + 261287367655768\\\\330425420730235 - 72 t_{3}\\end{matrix}\\right] = \\left[\\begin{matrix}\\frac{\\left(t_{1} - t_{2}\\right) \\left(45 t_{1} + 250314870325177\\right) - \\left(t_{1} - t_{3}\\right) \\left(45 t_{1} - 22 t_{2} + 57587736144006\\right)}{t_{1} - t_{2}}\\\\\\frac{\\left(t_{1} - t_{2}\\right) \\left(15 t_{1} + 283762496814661\\right) - \\left(t_{1} - t_{3}\\right) \\left(15 t_{1} + 541 t_{2} - 172383820478327\\right)}{t_{1} - t_{2}}\\\\\\frac{\\left(t_{1} - t_{2}\\right) \\left(8 t_{1} + 272019235409859\\right) - 2 \\left(t_{1} - t_{3}\\right) \\left(4 t_{1} + 35 t_{2} + 12611561679158\\right)}{t_{1} - t_{2}}\\end{matrix}\\right]$"
      ],
      "text/plain": [
       "Eq(Matrix([\n",
       "[78*t3 + 242038752891431],\n",
       "[27*t3 + 261287367655768],\n",
       "[330425420730235 - 72*t3]]), Matrix([\n",
       "[  ((t1 - t2)*(45*t1 + 250314870325177) - (t1 - t3)*(45*t1 - 22*t2 + 57587736144006))/(t1 - t2)],\n",
       "[((t1 - t2)*(15*t1 + 283762496814661) - (t1 - t3)*(15*t1 + 541*t2 - 172383820478327))/(t1 - t2)],\n",
       "[  ((t1 - t2)*(8*t1 + 272019235409859) - 2*(t1 - t3)*(4*t1 + 35*t2 + 12611561679158))/(t1 - t2)]]))"
      ]
     },
     "execution_count": 15,
     "metadata": {},
     "output_type": "execute_result"
    }
   ],
   "source": [
    "sp.simplify(equation)"
   ]
  },
  {
   "cell_type": "code",
   "execution_count": 7,
   "metadata": {},
   "outputs": [
    {
     "data": {
      "text/plain": [
       "[(554254222135, 178128108482, 630699045774)]"
      ]
     },
     "execution_count": 7,
     "metadata": {},
     "output_type": "execute_result"
    }
   ],
   "source": [
    "solutions"
   ]
  },
  {
   "cell_type": "code",
   "execution_count": 16,
   "metadata": {},
   "outputs": [
    {
     "data": {
      "text/plain": [
       "0.32138340380312563"
      ]
     },
     "execution_count": 16,
     "metadata": {},
     "output_type": "execute_result"
    }
   ],
   "source": [
    "178128108482/554254222135"
   ]
  },
  {
   "cell_type": "code",
   "execution_count": 9,
   "metadata": {},
   "outputs": [
    {
     "data": {
      "text/plain": [
       "(Matrix([\n",
       " [275256310321252],\n",
       " [292076310146686],\n",
       " [276453269186939]]),\n",
       " Matrix([\n",
       " [196645952567775],\n",
       " [359779010604226],\n",
       " [234327144457803]]),\n",
       " Matrix([\n",
       " [291233278461803],\n",
       " [278316241891666],\n",
       " [285015089434507]]))"
      ]
     },
     "execution_count": 9,
     "metadata": {},
     "output_type": "execute_result"
    }
   ],
   "source": [
    "pp1 = p1 + solutions[0][0] * v1\n",
    "pp2 = p2 + solutions[0][1] * v2\n",
    "pp3 = p3 + solutions[0][2] * v3\n",
    "pp1, pp2, pp3"
   ]
  },
  {
   "cell_type": "code",
   "execution_count": 85,
   "metadata": {},
   "outputs": [
    {
     "data": {
      "text/latex": [
       "$\\displaystyle \\left[\\begin{matrix}209 & -180 & 112\\end{matrix}\\right]$"
      ],
      "text/plain": [
       "Matrix([[209, -180, 112]])"
      ]
     },
     "execution_count": 85,
     "metadata": {},
     "output_type": "execute_result"
    }
   ],
   "source": [
    "vv0 = (pp2 - pp1) / (solutions[0][1] - solutions[0][0])\n",
    "vv0.T"
   ]
  },
  {
   "cell_type": "code",
   "execution_count": null,
   "metadata": {},
   "outputs": [],
   "source": []
  },
  {
   "cell_type": "code",
   "execution_count": 13,
   "metadata": {},
   "outputs": [
    {
     "name": "stdout",
     "output_type": "stream",
     "text": [
      "Matrix([[159417177895037], [391842070130986], [214376796307819]])\n"
     ]
    }
   ],
   "source": [
    "print(pp1 - (vv0 * solutions[0][0]))"
   ]
  },
  {
   "cell_type": "code",
   "execution_count": 14,
   "metadata": {},
   "outputs": [
    {
     "data": {
      "text/plain": [
       "765636044333842"
      ]
     },
     "execution_count": 14,
     "metadata": {},
     "output_type": "execute_result"
    }
   ],
   "source": [
    "159417177895037 + 391842070130986 + 214376796307819"
   ]
  }
 ],
 "metadata": {
  "kernelspec": {
   "display_name": "work",
   "language": "python",
   "name": "python3"
  },
  "language_info": {
   "codemirror_mode": {
    "name": "ipython",
    "version": 3
   },
   "file_extension": ".py",
   "mimetype": "text/x-python",
   "name": "python",
   "nbconvert_exporter": "python",
   "pygments_lexer": "ipython3",
   "version": "3.9.17"
  }
 },
 "nbformat": 4,
 "nbformat_minor": 2
}
