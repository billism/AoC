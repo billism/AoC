{
 "cells": [
  {
   "cell_type": "code",
   "execution_count": 2,
   "metadata": {},
   "outputs": [
    {
     "name": "stdout",
     "output_type": "stream",
     "text": [
      "300\n",
      "[([171178400007298, 165283791547432, 246565404194007], [190, 186, 60]), ([250314870325177, 283762496814661, 272019235409859], [45, 15, 8]), ([192727134181171, 456146317292988, 246796112051543], [22, -541, -70])]\n"
     ]
    }
   ],
   "source": [
    "fn = \"test1.txt\"\n",
    "fn = 'input.txt'\n",
    "\n",
    "stones = []\n",
    "with open(fn) as f:\n",
    "    for line in f:\n",
    "        p, v = line.strip().split(\"@\")\n",
    "        p = list(map(int, p.strip().split(\",\")))\n",
    "        v = list(map(int, v.strip().split(\",\")))\n",
    "        stones.append((p, v))\n",
    "\n",
    "print(len(stones))\n",
    "print(stones[:3])"
   ]
  },
  {
   "cell_type": "code",
   "execution_count": null,
   "metadata": {},
   "outputs": [],
   "source": [
    "import sympy as sp\n",
    "\n",
    "p0, v0 = stones[0]     # p0 的初始位置\n",
    "p0 = sp.Matrix(p0)\n",
    "v0 = sp.Matrix(v0)\n",
    "for t in range(1,10000):\n",
    "    if t%1000 == 0:\n",
    "        print(f\"==========={t}===========\")\n",
    "    p0t = p0 + t * v0       # t 时刻的位置\n",
    "    planes = []\n",
    "    for p1, v1 in stones[1:5]: # 其余的点\n",
    "        p1 = sp.Matrix(p1)\n",
    "        v1 = sp.Matrix(v1)\n",
    "        p1t = p1 + t * v1      # t 时刻的位置\n",
    "        # 如果石子与 p0 在 t 时刻相遇: p0t, p1t, p1 共面\n",
    "        pl = sp.Plane(p0t, p1t, p1)\n",
    "        planes.append(pl)\n",
    "    if planes[0].are_concurrent(*planes[1:]):\n",
    "        print(t)"
   ]
  },
  {
   "cell_type": "code",
   "execution_count": 11,
   "metadata": {},
   "outputs": [
    {
     "data": {
      "text/plain": [
       "12"
      ]
     },
     "execution_count": 11,
     "metadata": {},
     "output_type": "execute_result"
    }
   ],
   "source": [
    "len(list(range(10,240,20)))"
   ]
  }
 ],
 "metadata": {
  "kernelspec": {
   "display_name": "Python 3 (ipykernel)",
   "language": "python",
   "name": "python3"
  },
  "language_info": {
   "codemirror_mode": {
    "name": "ipython",
    "version": 3
   },
   "file_extension": ".py",
   "mimetype": "text/x-python",
   "name": "python",
   "nbconvert_exporter": "python",
   "pygments_lexer": "ipython3",
   "version": "3.10.13"
  }
 },
 "nbformat": 4,
 "nbformat_minor": 4
}
